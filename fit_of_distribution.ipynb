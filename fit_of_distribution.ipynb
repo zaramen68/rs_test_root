{
 "cells": [
  {
   "cell_type": "code",
   "execution_count": 1,
   "source": [
    "import matplotlib.pyplot as plt\n",
    "\n",
    "import math\n",
    "import numpy as np\n",
    "\n",
    "from scipy.optimize import curve_fit\n",
    "\n",
    "def func(x,  a1, s1, M1, a2, s2, M2, a3, s3, M3):\n",
    "\n",
    "    return  a1/(np.exp((x-M1)**2/(2*s1**2))*(s1*math.sqrt(2*math.pi))) + a2/(np.exp((x-M2)**2/(2*s2**2))*(s2*math.sqrt(2*math.pi)))+\\\n",
    "                a3/(np.exp((x-M3)**2/(2*s3**2))*(s3*math.sqrt(2*math.pi)))\n",
    "\n",
    "# read data from a text file. One number per line\n",
    "arch = \"/home/tenderbook/rs_test/1_150.in\"\n",
    "datos = []\n",
    "bins = []\n",
    "for item in open(arch,'r'):\n",
    "    try:\n",
    "        item = item.strip('\\n')\n",
    "        item_ = item.split(',')\n",
    "        y = item_[1]\n",
    "        bin = item_[0]\n",
    "    except Exception as ex:\n",
    "        print(ex)\n",
    "    else:\n",
    "        if y != '':\n",
    "            try:\n",
    "                datos.append(float(y))\n",
    "                bins.append(float(bin))\n",
    "            except ValueError:\n",
    "                pass\n",
    "p0 = [1.0, 0.00001, 1.0, 2.0, 0.01, 0.4, 3.0, 0.01, 0.35]\n",
    "bound=(0, [10.0, 0.1, 2.0, 10., 0.1, 2.0, 10., 0.1, 2.0])\n",
    "# plt.subplot(111)\n",
    "plt.plot(bins, datos, 'r--', label='data')\n",
    "# plt.subplot(112)\n",
    "plt.bar(bins, datos, width=bins[1])\n",
    "\n",
    "popt, pcov = curve_fit(f = func, xdata = bins, ydata = datos, p0=p0, absolute_sigma = True, check_finite=True, method='dogbox')\n",
    "perr = np.sqrt(np.diag(pcov))\n",
    "\n",
    "y = func(bins, *popt)\n",
    "\n",
    "ydata = y \n",
    "\n",
    "# plt.plot(bins, func(bins, *popt), 'r-', label='fit: s1=%5.3f, M1=%5.3f, s2=%5.3f, M2=%5.3f, s3=%5.3f, M3=%5.3f' % tuple(popt))\n",
    "# plt.subplot(114)\n",
    "plt.plot(bins, func(bins, *popt), 'g^')\n",
    "\n",
    "plt.show()\n"
   ],
   "outputs": [
    {
     "output_type": "stream",
     "name": "stdout",
     "text": [
      "list index out of range\n"
     ]
    },
    {
     "output_type": "stream",
     "name": "stderr",
     "text": [
      "<ipython-input-1-9d89c5a7c4d7>:10: RuntimeWarning: overflow encountered in exp\n",
      "  return  a1/(np.exp((x-M1)**2/(2*s1**2))*(s1*math.sqrt(2*math.pi))) + a2/(np.exp((x-M2)**2/(2*s2**2))*(s2*math.sqrt(2*math.pi)))+\\\n",
      "<ipython-input-1-9d89c5a7c4d7>:11: RuntimeWarning: overflow encountered in exp\n",
      "  a3/(np.exp((x-M3)**2/(2*s3**2))*(s3*math.sqrt(2*math.pi)))\n"
     ]
    },
    {
     "output_type": "display_data",
     "data": {
      "text/plain": [
       "<Figure size 432x288 with 1 Axes>"
      ],
      "image/png": "[encoded data removed]"
     },
     "metadata": {
      "needs_background": "light"
     }
    }
   ],
   "metadata": {}
  },
  {
   "cell_type": "code",
   "execution_count": 11,
   "source": [
    "import matplotlib.pyplot as plt\n",
    "\n",
    "import math\n",
    "import numpy as np\n",
    "\n",
    "from scipy.optimize import curve_fit\n",
    "\n",
    "def func(x,  a, s, M):\n",
    "    return  a/(np.exp((x-M)**2/(2*s**2))*(s*math.sqrt(2*math.pi)))\n",
    "\n",
    "# read data from a text file. One number per line\n",
    "arch = \"/home/tenderbook/rs_test/0.5_150.in\"\n",
    "datos = []\n",
    "bins = []\n",
    "for item in open(arch,'r'):\n",
    "    try:\n",
    "        item = item.strip('\\n')\n",
    "        item_ = item.split(',')\n",
    "        y = item_[1]\n",
    "        bin = item_[0]\n",
    "    except Exception as ex:\n",
    "        print(ex)\n",
    "    else:\n",
    "        if y != '':\n",
    "            try:\n",
    "                datos.append(float(y))\n",
    "                bins.append(float(bin))\n",
    "            except ValueError:\n",
    "                pass\n",
    "p0 = [1.0, 0.001, 0.5]\n",
    "bound=(0, [np.inf, 1.0, 2.0])\n",
    "# plt.subplot(111)\n",
    "\n",
    "plt.plot(bins, datos, 'r--', label='data')\n",
    "# plt.subplot(112)\n",
    "plt.bar(bins, datos, width=bins[1])\n",
    "\n",
    "popt, pcov = curve_fit(f = func, xdata = bins, ydata = datos, p0=p0, absolute_sigma = True, check_finite=True, bounds=bound,  method='dogbox')\n",
    "perr = np.sqrt(np.diag(pcov))\n",
    "\n",
    "y = func(bins, *popt)\n",
    "\n",
    "\n",
    "ydata = y \n",
    "\n",
    "\n",
    "plt.rcParams['figure.figsize'] = (plt.rcParamsDefault['figure.figsize'][0]*2, plt.rcParamsDefault['figure.figsize'][0]*2)\n",
    "# plt.plot(bins, func(bins, *popt), 'r-', label='fit: s1=%5.3f, M1=%5.3f, s2=%5.3f, M2=%5.3f, s3=%5.3f, M3=%5.3f' % tuple(popt))\n",
    "# plt.subplot(114)\n",
    "plt.plot(bins, func(bins, *popt), 'g^', label='fit: a1={:f}, M1={:f}, s1={:f}'.format(*popt))\n",
    "print('fit: a1={:f}, s1={:f}, M1={:f}'.format(*popt), 'perr = ', perr )\n",
    "\n",
    "\n",
    "plt.show()\n"
   ],
   "outputs": [
    {
     "output_type": "stream",
     "name": "stdout",
     "text": [
      "list index out of range\n",
      "list index out of range\n",
      "list index out of range\n",
      "list index out of range\n",
      "list index out of range\n",
      "fit: a1=1.000000, s1=0.000003, M1=1.000000 perr =  [9.10203110e-17 2.74454291e-11 2.04786003e-14]\n"
     ]
    },
    {
     "output_type": "stream",
     "name": "stderr",
     "text": [
      "<ipython-input-11-c013312d3d5b>:9: RuntimeWarning: overflow encountered in exp\n",
      "  return  a/(np.exp((x-M)**2/(2*s**2))*(s*math.sqrt(2*math.pi)))\n",
      "<ipython-input-11-c013312d3d5b>:9: RuntimeWarning: divide by zero encountered in true_divide\n",
      "  return  a/(np.exp((x-M)**2/(2*s**2))*(s*math.sqrt(2*math.pi)))\n",
      "<ipython-input-11-c013312d3d5b>:9: RuntimeWarning: invalid value encountered in multiply\n",
      "  return  a/(np.exp((x-M)**2/(2*s**2))*(s*math.sqrt(2*math.pi)))\n"
     ]
    },
    {
     "output_type": "display_data",
     "data": {
      "text/plain": [
       "<Figure size 720x720 with 1 Axes>"
      ],
      "image/png": "[encoded data removed]"
     },
     "metadata": {
      "needs_background": "light"
     }
    }
   ],
   "metadata": {}
  }
 ],
 "metadata": {
  "kernelspec": {
   "name": "python3",
   "display_name": "Python 3.8.10 64-bit"
  },
  "language_info": {
   "codemirror_mode": {
    "name": "ipython",
    "version": 3
   },
   "file_extension": ".py",
   "mimetype": "text/x-python",
   "name": "python",
   "nbconvert_exporter": "python",
   "pygments_lexer": "ipython3",
   "version": "3.8.10"
  },
  "interpreter": {
   "hash": "916dbcbb3f70747c44a77c7bcd40155683ae19c65e1c03b4aa3499c5328201f1"
  }
 },
 "nbformat": 4,
 "nbformat_minor": 4
}